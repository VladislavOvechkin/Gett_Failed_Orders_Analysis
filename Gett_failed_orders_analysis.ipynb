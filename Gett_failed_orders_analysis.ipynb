{
 "cells": [
  {
   "cell_type": "markdown",
   "id": "00602e09",
   "metadata": {},
   "source": [
    "# Анализ показателей отмененных заказов такси (тестовое задание в Gett)"
   ]
  },
  {
   "cell_type": "markdown",
   "id": "3c7b25a5",
   "metadata": {},
   "source": [
    "Идея и данные для мини-проекта взяты с сайта Stratascratch (https://platform.stratascratch.com/data-projects/insights-failed-orders).\n",
    "\n",
    "Этот проект по обработке данных использовался в качестве тестового задания в процессе набора персонала на должности специалистов по обработке данных в Геттисберге.  \n",
    "\n",
    "Gett, ранее известная как GetTaxi, представляет собой разработанную в Израиле технологическую платформу, ориентированную исключительно на управление корпоративным наземным транспортом (GTM). У компании есть приложение, в котором клиенты могут заказать такси, а водители могут принимать их поездки (предложения). В тот момент, когда клиент нажимает кнопку заказа в приложении, система подбора ищет наиболее подходящих водителей и предлагает им заказ. В этой задаче необходимо исследовать некоторые показатели заказов, которые не были выполнены успешно, т.е. клиент в конечном итоге не получил автомобиль."
   ]
  },
  {
   "cell_type": "markdown",
   "id": "b1cbaa98",
   "metadata": {},
   "source": [
    "В рамках проекта необходимо выполнить следующие задачи:\n",
    "\n",
    "1. Проанализировать распределение заказов в соответствии с причинами отказа: отмены до и после назначения водителя, а также причины отклонения заказа. Построить график. Определить, в какой категории больше всего заказов.\n",
    "\n",
    "2. Построить график распределения невыполненных заказов по часам. Определить, существует ли тенденция к тому, что в определенные часы наблюдается аномально высокая доля той или иной категории? В какие часы происходят самые большие сбои? Как это можно объяснить?\n",
    "\n",
    "3. Рассчитать среднее время до отмены бронирования с водителем и без него в разбивке по часам. Если в данных есть какие-либо отклонения, было бы лучше их удалить. Можно сделать какие-либо выводы из этого сюжета?\n",
    "\n",
    "4. Построить график распределения среднего времени до прибытия по часам. Как можно объяснить этот сюжет?\n",
    "\n",
    "5. Построить почасовую разбивку среднего количества водителей, которым был предложен заказ. Что можно сказать по ней про избыток/нехватку водителей в те или иные часы?"
   ]
  },
  {
   "cell_type": "markdown",
   "id": "f2bd6fc4",
   "metadata": {},
   "source": [
    "У нас есть два набора данных: ```data_orders``` и ```data_offers```, оба хранятся в формате CSV. \n",
    "\n",
    "Набор данных ```data_orders``` содержит следующие столбцы:\n",
    "\n",
    "* ```order_datetime``` - время отправления заказа\n",
    "\n",
    "* ```origin_longitude``` - долгота местоположения отправления заказа\n",
    "\n",
    "* ```origin_latity``` - широта местоположения отправления заказа\n",
    "\n",
    "* ```m_order_eta``` - время до прибытия водителя \n",
    "\n",
    "* ```order_gk``` - номер заказа \n",
    "\n",
    "* ```order_status_key``` - статус:\n",
    "4 - отменено клиентом,\n",
    "9 - отменено системой, т.е. отклонение\n",
    "\n",
    "* ```is_driver_assigned_key``` - был ли назначен водитель\n",
    "\n",
    "* ```cancellation_time_in_seconds``` - сколько секунд прошло до отмены\n",
    "\n",
    "Набор данных``` data_offers``` представляет собой простую карту с 2 столбцами:\n",
    "\n",
    "* ```order_gk``` - номер заказа, связанный с тем же столбцом из набора данных заказов\n",
    "\n",
    "* ```offer_id``` - идентификатор предложения"
   ]
  },
  {
   "cell_type": "code",
   "execution_count": 35,
   "id": "812a0462",
   "metadata": {},
   "outputs": [],
   "source": [
    "import numpy as np \n",
    "import pandas as pd \n",
    "import matplotlib.pyplot as plt \n",
    "import seaborn as sns\n",
    "sns.set(rc={\"figure.figsize\":(10, 7)})"
   ]
  },
  {
   "cell_type": "code",
   "execution_count": 3,
   "id": "f211348e",
   "metadata": {},
   "outputs": [],
   "source": [
    "data_orders = pd.read_csv(\"/Users/vladislavoveckin/Desktop/data analysis/Gett_failed_orders/datasets/data_orders.csv\")"
   ]
  },
  {
   "cell_type": "code",
   "execution_count": 4,
   "id": "bdd984dd",
   "metadata": {},
   "outputs": [
    {
     "data": {
      "text/html": [
       "<div>\n",
       "<style scoped>\n",
       "    .dataframe tbody tr th:only-of-type {\n",
       "        vertical-align: middle;\n",
       "    }\n",
       "\n",
       "    .dataframe tbody tr th {\n",
       "        vertical-align: top;\n",
       "    }\n",
       "\n",
       "    .dataframe thead th {\n",
       "        text-align: right;\n",
       "    }\n",
       "</style>\n",
       "<table border=\"1\" class=\"dataframe\">\n",
       "  <thead>\n",
       "    <tr style=\"text-align: right;\">\n",
       "      <th></th>\n",
       "      <th>order_datetime</th>\n",
       "      <th>origin_longitude</th>\n",
       "      <th>origin_latitude</th>\n",
       "      <th>m_order_eta</th>\n",
       "      <th>order_gk</th>\n",
       "      <th>order_status_key</th>\n",
       "      <th>is_driver_assigned_key</th>\n",
       "      <th>cancellations_time_in_seconds</th>\n",
       "    </tr>\n",
       "  </thead>\n",
       "  <tbody>\n",
       "    <tr>\n",
       "      <th>0</th>\n",
       "      <td>18:08:07</td>\n",
       "      <td>-0.978916</td>\n",
       "      <td>51.456173</td>\n",
       "      <td>60.0</td>\n",
       "      <td>3000583041974</td>\n",
       "      <td>4</td>\n",
       "      <td>1</td>\n",
       "      <td>198.0</td>\n",
       "    </tr>\n",
       "    <tr>\n",
       "      <th>1</th>\n",
       "      <td>20:57:32</td>\n",
       "      <td>-0.950385</td>\n",
       "      <td>51.456843</td>\n",
       "      <td>NaN</td>\n",
       "      <td>3000583116437</td>\n",
       "      <td>4</td>\n",
       "      <td>0</td>\n",
       "      <td>128.0</td>\n",
       "    </tr>\n",
       "    <tr>\n",
       "      <th>2</th>\n",
       "      <td>12:07:50</td>\n",
       "      <td>-0.969520</td>\n",
       "      <td>51.455544</td>\n",
       "      <td>477.0</td>\n",
       "      <td>3000582891479</td>\n",
       "      <td>4</td>\n",
       "      <td>1</td>\n",
       "      <td>46.0</td>\n",
       "    </tr>\n",
       "    <tr>\n",
       "      <th>3</th>\n",
       "      <td>13:50:20</td>\n",
       "      <td>-1.054671</td>\n",
       "      <td>51.460544</td>\n",
       "      <td>658.0</td>\n",
       "      <td>3000582941169</td>\n",
       "      <td>4</td>\n",
       "      <td>1</td>\n",
       "      <td>62.0</td>\n",
       "    </tr>\n",
       "    <tr>\n",
       "      <th>4</th>\n",
       "      <td>21:24:45</td>\n",
       "      <td>-0.967605</td>\n",
       "      <td>51.458236</td>\n",
       "      <td>NaN</td>\n",
       "      <td>3000583140877</td>\n",
       "      <td>9</td>\n",
       "      <td>0</td>\n",
       "      <td>NaN</td>\n",
       "    </tr>\n",
       "  </tbody>\n",
       "</table>\n",
       "</div>"
      ],
      "text/plain": [
       "  order_datetime  origin_longitude  origin_latitude  m_order_eta  \\\n",
       "0       18:08:07         -0.978916        51.456173         60.0   \n",
       "1       20:57:32         -0.950385        51.456843          NaN   \n",
       "2       12:07:50         -0.969520        51.455544        477.0   \n",
       "3       13:50:20         -1.054671        51.460544        658.0   \n",
       "4       21:24:45         -0.967605        51.458236          NaN   \n",
       "\n",
       "        order_gk  order_status_key  is_driver_assigned_key  \\\n",
       "0  3000583041974                 4                       1   \n",
       "1  3000583116437                 4                       0   \n",
       "2  3000582891479                 4                       1   \n",
       "3  3000582941169                 4                       1   \n",
       "4  3000583140877                 9                       0   \n",
       "\n",
       "   cancellations_time_in_seconds  \n",
       "0                          198.0  \n",
       "1                          128.0  \n",
       "2                           46.0  \n",
       "3                           62.0  \n",
       "4                            NaN  "
      ]
     },
     "execution_count": 4,
     "metadata": {},
     "output_type": "execute_result"
    }
   ],
   "source": [
    "data_orders.head()"
   ]
  },
  {
   "cell_type": "code",
   "execution_count": 5,
   "id": "5e53b027",
   "metadata": {},
   "outputs": [
    {
     "name": "stdout",
     "output_type": "stream",
     "text": [
      "<class 'pandas.core.frame.DataFrame'>\n",
      "RangeIndex: 10716 entries, 0 to 10715\n",
      "Data columns (total 8 columns):\n",
      " #   Column                         Non-Null Count  Dtype  \n",
      "---  ------                         --------------  -----  \n",
      " 0   order_datetime                 10716 non-null  object \n",
      " 1   origin_longitude               10716 non-null  float64\n",
      " 2   origin_latitude                10716 non-null  float64\n",
      " 3   m_order_eta                    2814 non-null   float64\n",
      " 4   order_gk                       10716 non-null  int64  \n",
      " 5   order_status_key               10716 non-null  int64  \n",
      " 6   is_driver_assigned_key         10716 non-null  int64  \n",
      " 7   cancellations_time_in_seconds  7307 non-null   float64\n",
      "dtypes: float64(4), int64(3), object(1)\n",
      "memory usage: 669.9+ KB\n"
     ]
    }
   ],
   "source": [
    "data_orders.info()"
   ]
  },
  {
   "cell_type": "code",
   "execution_count": 6,
   "id": "b1ec48b2",
   "metadata": {},
   "outputs": [
    {
     "data": {
      "text/plain": [
       "order_datetime                   0.000000\n",
       "origin_longitude                 0.000000\n",
       "origin_latitude                  0.000000\n",
       "m_order_eta                      0.737402\n",
       "order_gk                         0.000000\n",
       "order_status_key                 0.000000\n",
       "is_driver_assigned_key           0.000000\n",
       "cancellations_time_in_seconds    0.318122\n",
       "dtype: float64"
      ]
     },
     "execution_count": 6,
     "metadata": {},
     "output_type": "execute_result"
    }
   ],
   "source": [
    "data_orders.isna().mean()"
   ]
  },
  {
   "cell_type": "markdown",
   "id": "cd2717ce",
   "metadata": {},
   "source": [
    "1. Посмотрим, как распределены заказы в соответствии с причинами отказа: отмены до и после назначения водителя, а также причины отклонения заказа."
   ]
  },
  {
   "cell_type": "code",
   "execution_count": 7,
   "id": "45aac18f",
   "metadata": {},
   "outputs": [
    {
     "data": {
      "text/html": [
       "<div>\n",
       "<style scoped>\n",
       "    .dataframe tbody tr th:only-of-type {\n",
       "        vertical-align: middle;\n",
       "    }\n",
       "\n",
       "    .dataframe tbody tr th {\n",
       "        vertical-align: top;\n",
       "    }\n",
       "\n",
       "    .dataframe thead th {\n",
       "        text-align: right;\n",
       "    }\n",
       "</style>\n",
       "<table border=\"1\" class=\"dataframe\">\n",
       "  <thead>\n",
       "    <tr style=\"text-align: right;\">\n",
       "      <th></th>\n",
       "      <th>is_driver_assigned_key</th>\n",
       "      <th>order_status_key</th>\n",
       "      <th>order_gk</th>\n",
       "    </tr>\n",
       "  </thead>\n",
       "  <tbody>\n",
       "    <tr>\n",
       "      <th>0</th>\n",
       "      <td>0</td>\n",
       "      <td>4</td>\n",
       "      <td>4496</td>\n",
       "    </tr>\n",
       "    <tr>\n",
       "      <th>1</th>\n",
       "      <td>0</td>\n",
       "      <td>9</td>\n",
       "      <td>3406</td>\n",
       "    </tr>\n",
       "    <tr>\n",
       "      <th>2</th>\n",
       "      <td>1</td>\n",
       "      <td>4</td>\n",
       "      <td>2811</td>\n",
       "    </tr>\n",
       "    <tr>\n",
       "      <th>3</th>\n",
       "      <td>1</td>\n",
       "      <td>9</td>\n",
       "      <td>3</td>\n",
       "    </tr>\n",
       "  </tbody>\n",
       "</table>\n",
       "</div>"
      ],
      "text/plain": [
       "   is_driver_assigned_key  order_status_key  order_gk\n",
       "0                       0                 4      4496\n",
       "1                       0                 9      3406\n",
       "2                       1                 4      2811\n",
       "3                       1                 9         3"
      ]
     },
     "execution_count": 7,
     "metadata": {},
     "output_type": "execute_result"
    }
   ],
   "source": [
    "data_orders.groupby([\"is_driver_assigned_key\", \"order_status_key\"])[\"order_gk\"].count().reset_index()"
   ]
  },
  {
   "cell_type": "markdown",
   "id": "a18b425c",
   "metadata": {},
   "source": [
    "Чаще всего отмена заказа происходит в случаях, когда водитель не назначен и заказ отменяется клиентом. \n",
    "Если водитель назначен, то в основном заказ в таких ситуациях отменяется клиентом."
   ]
  },
  {
   "cell_type": "markdown",
   "id": "28923bc6",
   "metadata": {},
   "source": [
    "Построим график распределения заказов в соответствии с причинами отказа."
   ]
  },
  {
   "cell_type": "code",
   "execution_count": 36,
   "id": "65957288",
   "metadata": {},
   "outputs": [
    {
     "data": {
      "image/png": "[encoded data removed]",
      "text/plain": [
       "<Figure size 720x432 with 1 Axes>"
      ]
     },
     "metadata": {},
     "output_type": "display_data"
    }
   ],
   "source": [
    "plt.figure(figsize=(10, 6))\n",
    "\n",
    "sns.countplot(x=data_orders[\"is_driver_assigned_key\"].map({0: \"водитель не назначен\", 1: \"водитель назначен\"}), \n",
    "              hue=data_orders[\"order_status_key\"].map({4: \"отменён клиентом\", 9: \"отменён системой\"}), \n",
    "              palette=\"magma\")\n",
    "plt.title(\"Распределение заказов по причине отмены\", fontsize=15)\n",
    "plt.xlabel(\"\")\n",
    "plt.ylabel(\"Количество заказов\")\n",
    "plt.legend(title = \"Статус заказа\")\n",
    "plt.show()"
   ]
  },
  {
   "cell_type": "markdown",
   "id": "4d4c289a",
   "metadata": {},
   "source": [
    "2. Построим графики распределений невыполненных заказов по часам в зависимости от назначения или неназначения водителя и причины отказа. "
   ]
  },
  {
   "cell_type": "code",
   "execution_count": 9,
   "id": "63d5e789",
   "metadata": {},
   "outputs": [],
   "source": [
    "data_orders[\"order_time_hour\"] = pd.to_datetime(data_orders.order_datetime).dt.hour"
   ]
  },
  {
   "cell_type": "code",
   "execution_count": 37,
   "id": "c33a2e35",
   "metadata": {},
   "outputs": [
    {
     "data": {
      "image/png": "[encoded data removed]",
      "text/plain": [
       "<Figure size 720x504 with 1 Axes>"
      ]
     },
     "metadata": {},
     "output_type": "display_data"
    }
   ],
   "source": [
    "sns.lineplot(x = sorted(data_orders[\"order_time_hour\"].unique()),\\\n",
    "             y = data_orders.groupby(\"order_time_hour\")[\"order_gk\"].count().values, color=\"purple\")\n",
    "plt.title(\"Распределение количества отмененных заказов по времени (в часах)\", fontsize=15)\n",
    "plt.xlabel(\"Время отмены заказа (час)\")\n",
    "plt.ylabel(\"Количество заказов\")\n",
    "plt.show()"
   ]
  },
  {
   "cell_type": "markdown",
   "id": "059b46d5",
   "metadata": {},
   "source": [
    "Из графика следует, что пиковые временные промежутки, когда отменяется большое количество заказов, приходятся на 8 часов утра и позднее вечернее время с 21 до 24 часов включительно."
   ]
  },
  {
   "cell_type": "code",
   "execution_count": 38,
   "id": "c1a0e328",
   "metadata": {},
   "outputs": [
    {
     "data": {
      "image/png": "[encoded data removed]",
      "text/plain": [
       "<Figure size 720x504 with 1 Axes>"
      ]
     },
     "metadata": {},
     "output_type": "display_data"
    }
   ],
   "source": [
    "sns.countplot(x=data_orders[\"order_time_hour\"], \n",
    "              hue=data_orders[\"order_status_key\"].map({4: \"отменён клиентом\", 9: \"отменён системой\"}), \n",
    "              palette=\"magma\")\n",
    "plt.title(\"Распределение заказов по времени (в часах) и статусу\", fontsize=15)\n",
    "plt.xlabel(\"Время отмены заказа (час)\")\n",
    "plt.ylabel(\"Количество заказов\")\n",
    "plt.legend(title = \"Статус заказа\")\n",
    "plt.show()"
   ]
  },
  {
   "cell_type": "code",
   "execution_count": 12,
   "id": "1d99dc30",
   "metadata": {},
   "outputs": [
    {
     "data": {
      "text/plain": [
       "order_time_hour\n",
       "0     4.0\n",
       "1     4.0\n",
       "2     4.0\n",
       "3     4.0\n",
       "4     4.0\n",
       "5     4.0\n",
       "6     4.0\n",
       "7     4.0\n",
       "8     4.0\n",
       "9     4.0\n",
       "10    4.0\n",
       "11    4.0\n",
       "12    4.0\n",
       "13    4.0\n",
       "14    4.0\n",
       "15    4.0\n",
       "16    4.0\n",
       "17    4.0\n",
       "18    4.0\n",
       "19    4.0\n",
       "20    4.0\n",
       "21    4.0\n",
       "22    4.0\n",
       "23    4.0\n",
       "Name: order_status_key, dtype: float64"
      ]
     },
     "execution_count": 12,
     "metadata": {},
     "output_type": "execute_result"
    }
   ],
   "source": [
    "data_orders[data_orders.order_status_key == 4].groupby(\"order_time_hour\")[\"order_status_key\"].mean()"
   ]
  },
  {
   "cell_type": "markdown",
   "id": "aacdf94e",
   "metadata": {},
   "source": [
    "Значительная часть невыполненных заказов в 8 часов утра была отменена самими клиентами. Скорее всего, 8 утра является часом пик, когда многие люди добираются на работу и по делам, формируя тем самым высокий спрос на услуги такси, который не получается удовлетворить у компании в виду ограниченного числа автомобилей. По этой причине, время ожидания автомобиля может быть слишком долгим для многих клиентов или же приложение на протяжении длительного времени не может найти подходящий автомобиль, что вынуждает их отказываться от заказов."
   ]
  },
  {
   "cell_type": "markdown",
   "id": "a36f74ae",
   "metadata": {},
   "source": [
    "В качестве одного из подтверждений данной гипотезы можно рассмотреть среднее время до прибытия водителя (=время ожидания такси) по часам."
   ]
  },
  {
   "cell_type": "code",
   "execution_count": 13,
   "id": "7943ab40",
   "metadata": {},
   "outputs": [
    {
     "data": {
      "text/plain": [
       "order_time_hour\n",
       "0     357.959016\n",
       "1     324.750000\n",
       "2     391.012821\n",
       "3     388.093750\n",
       "4     299.658537\n",
       "5     411.120000\n",
       "6     427.148936\n",
       "7     583.358974\n",
       "8     636.910828\n",
       "9     504.891026\n",
       "10    355.556962\n",
       "11    390.954955\n",
       "12    440.787879\n",
       "13    428.025000\n",
       "14    387.835052\n",
       "15    454.790210\n",
       "16    440.568182\n",
       "17    519.742515\n",
       "18    419.186567\n",
       "19    369.816667\n",
       "20    300.096491\n",
       "21    333.852941\n",
       "22    372.744966\n",
       "23    408.429487\n",
       "Name: m_order_eta, dtype: float64"
      ]
     },
     "execution_count": 13,
     "metadata": {},
     "output_type": "execute_result"
    }
   ],
   "source": [
    "data_orders.groupby(\"order_time_hour\")[\"m_order_eta\"].mean()"
   ]
  },
  {
   "cell_type": "markdown",
   "id": "34101cd8",
   "metadata": {},
   "source": [
    "Действительно, можно обнаружить, что дольше всего по времени клиенты ожидают такси именно в 8 часов утра. "
   ]
  },
  {
   "cell_type": "code",
   "execution_count": 14,
   "id": "e80f3f52",
   "metadata": {},
   "outputs": [
    {
     "data": {
      "text/plain": [
       "1.5733995364265414"
      ]
     },
     "execution_count": 14,
     "metadata": {},
     "output_type": "execute_result"
    }
   ],
   "source": [
    "data_orders.groupby(\"order_time_hour\")[\"m_order_eta\"].mean()[8]/\\\n",
    "data_orders[~(data_orders.order_time_hour == 8)].groupby(\"order_time_hour\")[\"m_order_eta\"].mean().mean()"
   ]
  },
  {
   "cell_type": "markdown",
   "id": "fba225d4",
   "metadata": {},
   "source": [
    "По сравнению с другими часами в течение дня клиент ожидает такси в среднем на 57 процентов дольше по времени. "
   ]
  },
  {
   "cell_type": "code",
   "execution_count": 39,
   "id": "431ef921",
   "metadata": {},
   "outputs": [
    {
     "data": {
      "image/png": "[encoded data removed]",
      "text/plain": [
       "<Figure size 720x504 with 1 Axes>"
      ]
     },
     "metadata": {},
     "output_type": "display_data"
    }
   ],
   "source": [
    "sns.countplot(x=data_orders[\"order_time_hour\"], \n",
    "              hue=data_orders[\"is_driver_assigned_key\"].map({0: \"водитель не назначен\", 1: \"водитель назначен\"}), \n",
    "              palette=\"magma\")\n",
    "plt.title(\"Распределение заказов по времени (в часах) и категории\", fontsize=15)\n",
    "plt.xlabel(\"Время отмены заказа (час)\")\n",
    "plt.ylabel(\"Количество заказов\")\n",
    "plt.legend(title = \"Категория назначения водителя\")\n",
    "plt.show()"
   ]
  },
  {
   "cell_type": "markdown",
   "id": "076f16d8",
   "metadata": {},
   "source": [
    "На основе графика распределения заказов по категории (назначен водитель или не назначен) можно сделать вывод, что в подавляющем большинстве случаев в 8 часов утра заказ отменяется до назначения водителя, что опять же подтверждает гипотезу о нехватке машин в час пик в условиях очень высокого спроса. Кроме того из графика видно, что в ночные часы в большинстве отмененных заказов водитель так же не был назначен. В данном случае, проблема заключается скорее не в повышенном спросе и невозможности его удовлетворения, а в том, что в ночной период выходят работать гораздо меньше водителей, чем в дневные часы, и система не может найти подходящего для заказа водителя. "
   ]
  },
  {
   "cell_type": "markdown",
   "id": "3effc606",
   "metadata": {},
   "source": [
    "3. Изучим распределение среднего времени до отмены бронирования по часам c назначенным водителем и без него.  "
   ]
  },
  {
   "cell_type": "code",
   "execution_count": 16,
   "id": "d805bf25",
   "metadata": {},
   "outputs": [
    {
     "data": {
      "text/html": [
       "<div>\n",
       "<style scoped>\n",
       "    .dataframe tbody tr th:only-of-type {\n",
       "        vertical-align: middle;\n",
       "    }\n",
       "\n",
       "    .dataframe tbody tr th {\n",
       "        vertical-align: top;\n",
       "    }\n",
       "\n",
       "    .dataframe thead th {\n",
       "        text-align: right;\n",
       "    }\n",
       "</style>\n",
       "<table border=\"1\" class=\"dataframe\">\n",
       "  <thead>\n",
       "    <tr style=\"text-align: right;\">\n",
       "      <th></th>\n",
       "      <th>mean</th>\n",
       "      <th>median</th>\n",
       "    </tr>\n",
       "    <tr>\n",
       "      <th>is_driver_assigned_key</th>\n",
       "      <th></th>\n",
       "      <th></th>\n",
       "    </tr>\n",
       "  </thead>\n",
       "  <tbody>\n",
       "    <tr>\n",
       "      <th>0</th>\n",
       "      <td>110.371441</td>\n",
       "      <td>88.0</td>\n",
       "    </tr>\n",
       "    <tr>\n",
       "      <th>1</th>\n",
       "      <td>233.897901</td>\n",
       "      <td>127.0</td>\n",
       "    </tr>\n",
       "  </tbody>\n",
       "</table>\n",
       "</div>"
      ],
      "text/plain": [
       "                              mean  median\n",
       "is_driver_assigned_key                    \n",
       "0                       110.371441    88.0\n",
       "1                       233.897901   127.0"
      ]
     },
     "execution_count": 16,
     "metadata": {},
     "output_type": "execute_result"
    }
   ],
   "source": [
    "data_orders.groupby(\"is_driver_assigned_key\")[\"cancellations_time_in_seconds\"].agg([\"mean\", \"median\"])"
   ]
  },
  {
   "cell_type": "code",
   "execution_count": 17,
   "id": "accc7ed9",
   "metadata": {},
   "outputs": [
    {
     "data": {
      "text/plain": [
       "order_time_hour\n",
       "0     111.557047\n",
       "1      98.132420\n",
       "2     106.438819\n",
       "3     104.361607\n",
       "4      90.000000\n",
       "5     121.800000\n",
       "6     124.955224\n",
       "7     112.628049\n",
       "8     120.702179\n",
       "9     120.000000\n",
       "10     74.607843\n",
       "11     77.945455\n",
       "12     93.283019\n",
       "13    103.993243\n",
       "14     98.415094\n",
       "15    114.639535\n",
       "16    129.216783\n",
       "17    111.533040\n",
       "18     98.088608\n",
       "19    112.522124\n",
       "20    110.086957\n",
       "21    113.959821\n",
       "22    104.858896\n",
       "23    121.756614\n",
       "Name: cancellations_time_in_seconds, dtype: float64"
      ]
     },
     "execution_count": 17,
     "metadata": {},
     "output_type": "execute_result"
    }
   ],
   "source": [
    "data_orders[data_orders.is_driver_assigned_key == 0].groupby(\"order_time_hour\")\\\n",
    "                                                [\"cancellations_time_in_seconds\"].mean()"
   ]
  },
  {
   "cell_type": "code",
   "execution_count": 18,
   "id": "ea50b736",
   "metadata": {},
   "outputs": [
    {
     "data": {
      "text/plain": [
       "order_time_hour\n",
       "0     293.616667\n",
       "1     247.715909\n",
       "2     303.307692\n",
       "3     292.640625\n",
       "4     243.219512\n",
       "5     314.400000\n",
       "6     272.553191\n",
       "7     188.891026\n",
       "8     189.025478\n",
       "9     216.493590\n",
       "10    197.860759\n",
       "11    258.423423\n",
       "12    240.686869\n",
       "13    248.541667\n",
       "14    235.618557\n",
       "15    206.349650\n",
       "16    220.465649\n",
       "17    248.125749\n",
       "18    268.082090\n",
       "19    198.741667\n",
       "20    206.692982\n",
       "21    214.460784\n",
       "22    232.080537\n",
       "23    284.557692\n",
       "Name: cancellations_time_in_seconds, dtype: float64"
      ]
     },
     "execution_count": 18,
     "metadata": {},
     "output_type": "execute_result"
    }
   ],
   "source": [
    "data_orders[data_orders.is_driver_assigned_key == 1].groupby(\"order_time_hour\")\\\n",
    "                                                [\"cancellations_time_in_seconds\"].mean()"
   ]
  },
  {
   "cell_type": "code",
   "execution_count": 40,
   "id": "dbc238a1",
   "metadata": {},
   "outputs": [
    {
     "data": {
      "image/png": "[encoded data removed]",
      "text/plain": [
       "<Figure size 720x504 with 1 Axes>"
      ]
     },
     "metadata": {},
     "output_type": "display_data"
    }
   ],
   "source": [
    "sns.boxplot(y = data_orders[\"cancellations_time_in_seconds\"], palette=\"magma\")\n",
    "plt.ylabel(\"\")\n",
    "plt.title(\"Время до отмены бронирования по часам (в секундах)\", fontsize=15)\n",
    "plt.show()"
   ]
  },
  {
   "cell_type": "markdown",
   "id": "1390f192",
   "metadata": {},
   "source": [
    "В данных наблюдаются выбросы. Попробуем удалить часть наблюдений и посмотрим, повлияет ли это существенно на характер распределения времени, прошедшего до отмены бронирования. "
   ]
  },
  {
   "cell_type": "code",
   "execution_count": 20,
   "id": "9142abe6",
   "metadata": {},
   "outputs": [
    {
     "data": {
      "text/plain": [
       "401.25"
      ]
     },
     "execution_count": 20,
     "metadata": {},
     "output_type": "execute_result"
    }
   ],
   "source": [
    "data_orders.cancellations_time_in_seconds.quantile(0.75) + \\\n",
    "1.5*(data_orders.cancellations_time_in_seconds.quantile(0.75) - \\\n",
    "     data_orders.cancellations_time_in_seconds.quantile(0.25))"
   ]
  },
  {
   "cell_type": "code",
   "execution_count": 21,
   "id": "9491c880",
   "metadata": {},
   "outputs": [],
   "source": [
    "data_canc_time = data_orders[~(data_orders.cancellations_time_in_seconds > 400)]"
   ]
  },
  {
   "cell_type": "code",
   "execution_count": 22,
   "id": "e4da2393",
   "metadata": {},
   "outputs": [
    {
     "data": {
      "text/html": [
       "<div>\n",
       "<style scoped>\n",
       "    .dataframe tbody tr th:only-of-type {\n",
       "        vertical-align: middle;\n",
       "    }\n",
       "\n",
       "    .dataframe tbody tr th {\n",
       "        vertical-align: top;\n",
       "    }\n",
       "\n",
       "    .dataframe thead th {\n",
       "        text-align: right;\n",
       "    }\n",
       "</style>\n",
       "<table border=\"1\" class=\"dataframe\">\n",
       "  <thead>\n",
       "    <tr style=\"text-align: right;\">\n",
       "      <th></th>\n",
       "      <th>mean</th>\n",
       "      <th>median</th>\n",
       "    </tr>\n",
       "    <tr>\n",
       "      <th>is_driver_assigned_key</th>\n",
       "      <th></th>\n",
       "      <th></th>\n",
       "    </tr>\n",
       "  </thead>\n",
       "  <tbody>\n",
       "    <tr>\n",
       "      <th>0</th>\n",
       "      <td>101.277263</td>\n",
       "      <td>86.0</td>\n",
       "    </tr>\n",
       "    <tr>\n",
       "      <th>1</th>\n",
       "      <td>123.796321</td>\n",
       "      <td>91.0</td>\n",
       "    </tr>\n",
       "  </tbody>\n",
       "</table>\n",
       "</div>"
      ],
      "text/plain": [
       "                              mean  median\n",
       "is_driver_assigned_key                    \n",
       "0                       101.277263    86.0\n",
       "1                       123.796321    91.0"
      ]
     },
     "execution_count": 22,
     "metadata": {},
     "output_type": "execute_result"
    }
   ],
   "source": [
    "data_canc_time.groupby(\"is_driver_assigned_key\")[\"cancellations_time_in_seconds\"].agg([\"mean\", \"median\"])"
   ]
  },
  {
   "cell_type": "code",
   "execution_count": 23,
   "id": "1c061536",
   "metadata": {},
   "outputs": [
    {
     "data": {
      "text/plain": [
       "order_time_hour\n",
       "0     103.453925\n",
       "1      98.132420\n",
       "2     101.205128\n",
       "3     102.174888\n",
       "4      90.000000\n",
       "5     121.800000\n",
       "6     101.384615\n",
       "7     108.549383\n",
       "8     110.412346\n",
       "9     108.724138\n",
       "10     66.200000\n",
       "11     77.945455\n",
       "12     87.857143\n",
       "13     98.684932\n",
       "14     87.596154\n",
       "15    100.375000\n",
       "16     97.313869\n",
       "17     96.804545\n",
       "18     90.576923\n",
       "19     95.201835\n",
       "20    104.174672\n",
       "21    108.266366\n",
       "22     99.198142\n",
       "23    104.839142\n",
       "Name: cancellations_time_in_seconds, dtype: float64"
      ]
     },
     "execution_count": 23,
     "metadata": {},
     "output_type": "execute_result"
    }
   ],
   "source": [
    "data_canc_time[data_canc_time.is_driver_assigned_key == 0].groupby(\"order_time_hour\")\\\n",
    "                                                [\"cancellations_time_in_seconds\"].mean()"
   ]
  },
  {
   "cell_type": "code",
   "execution_count": 24,
   "id": "bd6f454f",
   "metadata": {},
   "outputs": [
    {
     "data": {
      "text/plain": [
       "order_time_hour\n",
       "0     146.131868\n",
       "1     132.985915\n",
       "2     140.527273\n",
       "3     115.326087\n",
       "4     112.096774\n",
       "5     100.368421\n",
       "6      89.675676\n",
       "7     122.962406\n",
       "8     127.540925\n",
       "9     127.781955\n",
       "10    102.184615\n",
       "11    131.070588\n",
       "12    102.250000\n",
       "13    110.270833\n",
       "14    124.126582\n",
       "15    121.176471\n",
       "16    128.223214\n",
       "17    123.313433\n",
       "18    124.320755\n",
       "19    126.784314\n",
       "20    112.549451\n",
       "21    125.821429\n",
       "22    124.983333\n",
       "23    135.000000\n",
       "Name: cancellations_time_in_seconds, dtype: float64"
      ]
     },
     "execution_count": 24,
     "metadata": {},
     "output_type": "execute_result"
    }
   ],
   "source": [
    "data_canc_time[data_canc_time.is_driver_assigned_key == 1].groupby(\"order_time_hour\")\\\n",
    "                                                [\"cancellations_time_in_seconds\"].mean()"
   ]
  },
  {
   "cell_type": "markdown",
   "id": "b2733940",
   "metadata": {},
   "source": [
    "В случаях, когда водитель был назначен на выполненение заказа, среднее время до отмены заказа больше по сравнению со случаями, когда водитель назначен не был, независимо от часа поездки. "
   ]
  },
  {
   "cell_type": "markdown",
   "id": "8ae2529f",
   "metadata": {},
   "source": [
    "4. Построим график распределения среднего времения до прибытия такси по часам. "
   ]
  },
  {
   "cell_type": "code",
   "execution_count": 41,
   "id": "d37a5a24",
   "metadata": {},
   "outputs": [
    {
     "data": {
      "image/png": "[encoded data removed]",
      "text/plain": [
       "<Figure size 720x504 with 1 Axes>"
      ]
     },
     "metadata": {},
     "output_type": "display_data"
    }
   ],
   "source": [
    "sns.lineplot(x = sorted(data_orders[\"order_time_hour\"].unique()),\\\n",
    "             y = data_orders.groupby(\"order_time_hour\")[\"m_order_eta\"].mean().values, color=\"purple\")\n",
    "plt.title(\"Распределение среднего времени до прибытия такси по часам\", fontsize=15)\n",
    "plt.xlabel(\"Время отмены заказа (час)\")\n",
    "plt.ylabel(\"Среднее время\")\n",
    "plt.show()"
   ]
  },
  {
   "cell_type": "markdown",
   "id": "52a429ca",
   "metadata": {},
   "source": [
    "Как видно из графика, дольше всего приезда водителя клиенты ожидают в утренние часы (7-8 часов утра). Как ранее предположили, это связано с высоким спросом на такси в этот промежуток времени, когда люди едут на работу и по делам. В ночные же часы, такси приезжает в среднем быстрее, чем в дневные. "
   ]
  },
  {
   "cell_type": "markdown",
   "id": "41d9d6eb",
   "metadata": {},
   "source": [
    "5. Посмотрим, скольким водителем было предложено взять каждый отдельный заказ."
   ]
  },
  {
   "cell_type": "code",
   "execution_count": 26,
   "id": "b2c98140",
   "metadata": {},
   "outputs": [],
   "source": [
    "data_offers = pd.read_csv(\"/Users/vladislavoveckin/Desktop/data analysis/Gett_failed_orders/datasets/data_offers.csv\")"
   ]
  },
  {
   "cell_type": "code",
   "execution_count": 27,
   "id": "4808dc93",
   "metadata": {},
   "outputs": [
    {
     "data": {
      "text/html": [
       "<div>\n",
       "<style scoped>\n",
       "    .dataframe tbody tr th:only-of-type {\n",
       "        vertical-align: middle;\n",
       "    }\n",
       "\n",
       "    .dataframe tbody tr th {\n",
       "        vertical-align: top;\n",
       "    }\n",
       "\n",
       "    .dataframe thead th {\n",
       "        text-align: right;\n",
       "    }\n",
       "</style>\n",
       "<table border=\"1\" class=\"dataframe\">\n",
       "  <thead>\n",
       "    <tr style=\"text-align: right;\">\n",
       "      <th></th>\n",
       "      <th>order_gk</th>\n",
       "      <th>offer_id</th>\n",
       "    </tr>\n",
       "  </thead>\n",
       "  <tbody>\n",
       "    <tr>\n",
       "      <th>0</th>\n",
       "      <td>3000579625629</td>\n",
       "      <td>300050936206</td>\n",
       "    </tr>\n",
       "    <tr>\n",
       "      <th>1</th>\n",
       "      <td>3000627306450</td>\n",
       "      <td>300052064651</td>\n",
       "    </tr>\n",
       "    <tr>\n",
       "      <th>2</th>\n",
       "      <td>3000632920686</td>\n",
       "      <td>300052408812</td>\n",
       "    </tr>\n",
       "    <tr>\n",
       "      <th>3</th>\n",
       "      <td>3000632771725</td>\n",
       "      <td>300052393030</td>\n",
       "    </tr>\n",
       "    <tr>\n",
       "      <th>4</th>\n",
       "      <td>3000583467642</td>\n",
       "      <td>300051001196</td>\n",
       "    </tr>\n",
       "  </tbody>\n",
       "</table>\n",
       "</div>"
      ],
      "text/plain": [
       "        order_gk      offer_id\n",
       "0  3000579625629  300050936206\n",
       "1  3000627306450  300052064651\n",
       "2  3000632920686  300052408812\n",
       "3  3000632771725  300052393030\n",
       "4  3000583467642  300051001196"
      ]
     },
     "execution_count": 27,
     "metadata": {},
     "output_type": "execute_result"
    }
   ],
   "source": [
    "data_offers.head()"
   ]
  },
  {
   "cell_type": "code",
   "execution_count": 28,
   "id": "16d4c712",
   "metadata": {},
   "outputs": [],
   "source": [
    "offers_by_order = data_offers.groupby(\"order_gk\")[\"offer_id\"].count()"
   ]
  },
  {
   "cell_type": "code",
   "execution_count": 29,
   "id": "787c8919",
   "metadata": {},
   "outputs": [],
   "source": [
    "data_orders = data_orders.merge(offers_by_order, how = \"left\", on = \"order_gk\")"
   ]
  },
  {
   "cell_type": "code",
   "execution_count": 30,
   "id": "09a6bf88",
   "metadata": {},
   "outputs": [
    {
     "data": {
      "text/plain": [
       "0        1.0\n",
       "1        3.0\n",
       "2        6.0\n",
       "3        3.0\n",
       "4        NaN\n",
       "        ... \n",
       "10711    1.0\n",
       "10712    NaN\n",
       "10713    1.0\n",
       "10714    NaN\n",
       "10715    1.0\n",
       "Name: offer_id, Length: 10716, dtype: float64"
      ]
     },
     "execution_count": 30,
     "metadata": {},
     "output_type": "execute_result"
    }
   ],
   "source": [
    "data_orders[\"offer_id\"]"
   ]
  },
  {
   "cell_type": "code",
   "execution_count": 31,
   "id": "cea50662",
   "metadata": {},
   "outputs": [],
   "source": [
    "data_orders[\"offer_id\"] = data_orders[\"offer_id\"].fillna(0)"
   ]
  },
  {
   "cell_type": "code",
   "execution_count": 32,
   "id": "481f1cb0",
   "metadata": {},
   "outputs": [
    {
     "data": {
      "text/plain": [
       "order_time_hour\n",
       "0     2.918009\n",
       "1     2.770701\n",
       "2     2.657658\n",
       "3     2.764133\n",
       "4     1.493421\n",
       "5     1.656716\n",
       "6     2.465409\n",
       "7     3.503356\n",
       "8     3.572089\n",
       "9     3.053398\n",
       "10    2.276471\n",
       "11    2.642487\n",
       "12    2.722656\n",
       "13    2.928962\n",
       "14    2.863281\n",
       "15    3.289294\n",
       "16    2.337079\n",
       "17    2.846580\n",
       "18    2.743961\n",
       "19    2.031546\n",
       "20    2.944563\n",
       "21    3.288416\n",
       "22    2.833799\n",
       "23    2.955742\n",
       "Name: offer_id, dtype: float64"
      ]
     },
     "execution_count": 32,
     "metadata": {},
     "output_type": "execute_result"
    }
   ],
   "source": [
    "data_orders.groupby(\"order_time_hour\")[\"offer_id\"].mean()"
   ]
  },
  {
   "cell_type": "code",
   "execution_count": 42,
   "id": "add61322",
   "metadata": {},
   "outputs": [
    {
     "data": {
      "image/png": "[encoded data removed]",
      "text/plain": [
       "<Figure size 720x504 with 1 Axes>"
      ]
     },
     "metadata": {},
     "output_type": "display_data"
    }
   ],
   "source": [
    "sns.barplot(x=sorted(data_orders[\"order_time_hour\"].unique()), \n",
    "            y = data_orders.groupby(\"order_time_hour\")[\"offer_id\"].mean().values,\n",
    "            color = \"darkmagenta\")\n",
    "plt.show()"
   ]
  },
  {
   "cell_type": "markdown",
   "id": "16f332b9",
   "metadata": {},
   "source": [
    "Основываясь на данном графике, сложно выявить какие-либо существенные различия между средним количествов водителей, которым был предложен заказ, в разные часы и подтвердить вывод про избыток или нехватку водителей в определенное время. Только в 4-5 часов утра среднее количество водителей, которым был предложен заказ, отличается от других часов, но, основываясь на данных, можно заметить, что в это время в целом заказов совершается меньше, чем в остальные часы. "
   ]
  },
  {
   "cell_type": "markdown",
   "id": "3db01e60",
   "metadata": {},
   "source": [
    "### Ключевые выводы\n",
    "\n",
    "1. Большая часть случаев отмены заказов происходит в ситуациях, когда водитель не назначен и заказ отменяется клиентом. Если водитель назначен, заказ в таких случаях чаще отменяется клиентом.\n",
    "\n",
    "2. Пиковые временные промежутки, когда отменяется большое количество заказов, приходятся на 8 часов утра и позднее вечернее время с 21 до 24 часов включительно.\n",
    "\n",
    "3. Значительная часть невыполненных заказов в 8 часов утра отменяется самими клиентами. Скорее всего, 8 утра является часом пик, когда многие люди едут на работу и по делам, формируя тем самым высокий спрос на услуги такси, который не получается удовлетворить у компании в виду ограниченного числа автомобилей. По этой причине время ожидания автомобиля может быть слишком долгим для многих клиентов или же приложение на протяжении длительного времени не может найти подходящий автомобиль, что вынуждает клиентов отказываться от заказов.\n",
    "\n",
    "4. Подтверждением вывода 3 может являться тот факт, что дольше всего приезда водителя клиенты ожидают в утренние часы (7-8 часов утра). В ночные же часы такси приезжает в среднем быстрее, чем в дневные. \n",
    "\n",
    "5. Предположение о том, что в ночной период выходят работать гораздо меньше водителей, чем в дневные часы, и поэтому система не может найти подходящего для заказа водителя, не нашло основательного подтверждения. На последнем графике мы видим, что среднее количество водителей, которым был предложен заказ, в ночные часы не отличается от дневного периода, значит достаточное количество водителей работает в это время. При этом по какой-то причине водители не соглашаются на заказы, и системе очень часто приходится их отменять."
   ]
  },
  {
   "cell_type": "code",
   "execution_count": null,
   "id": "82086774",
   "metadata": {},
   "outputs": [],
   "source": []
  }
 ],
 "metadata": {
  "kernelspec": {
   "display_name": "Python 3 (ipykernel)",
   "language": "python",
   "name": "python3"
  },
  "language_info": {
   "codemirror_mode": {
    "name": "ipython",
    "version": 3
   },
   "file_extension": ".py",
   "mimetype": "text/x-python",
   "name": "python",
   "nbconvert_exporter": "python",
   "pygments_lexer": "ipython3",
   "version": "3.7.13"
  }
 },
 "nbformat": 4,
 "nbformat_minor": 5
}
